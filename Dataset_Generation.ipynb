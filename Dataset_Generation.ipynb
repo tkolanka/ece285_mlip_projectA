{
 "cells": [
  {
   "cell_type": "markdown",
   "metadata": {},
   "source": [
    "## COCO Dataset Generation and Pre-processing for Image Captioning"
   ]
  },
  {
   "cell_type": "markdown",
   "metadata": {},
   "source": [
    "This notebook processes the COCO 2014 dataset for training, validation and testing of image captioning and generates the necessary json files such as the word dictionary, image path files and caption files.\n",
    "\n",
    "__REQUIREMENTS:__  \n",
    "1. train2014.zip, val2014.zip and test2014.zip in data/coco folder from http://cocodataset.org/#download (2014 Train, Val, Test Images)  \n",
    "2. image_info_test2014.json in data/coco folder from http://cocodataset.org/#download (2014 Testing Image Info)  \n",
    "3. dataset.json in data/coco folder from http://cs.stanford.edu/people/karpathy/deepimagesent/caption_datasets.zip (Andrej Karpathy's training, validation and testing splits - used in previous works)"
   ]
  },
  {
   "cell_type": "code",
   "execution_count": null,
   "metadata": {},
   "outputs": [],
   "source": [
    "# Import the necessary functions from the custom generate_data file\n",
    "from generate_data import generate_trainval_json_data, generate_test_json_data"
   ]
  },
  {
   "cell_type": "code",
   "execution_count": null,
   "metadata": {},
   "outputs": [],
   "source": [
    "split_path = '/data/coco/dataset.json'\n",
    "test_path = '/data/coco/image_info_test2014.json'\n",
    "data_path = '/data/coco'\n",
    "max_captions_per_image = 5\n",
    "min_word_count = 5"
   ]
  },
  {
   "cell_type": "code",
   "execution_count": null,
   "metadata": {},
   "outputs": [],
   "source": [
    "# Creation of json files of training and validation image paths, captions and the complete word dictionary in data_path.\n",
    "generate_trainval_json_data(split_path, data_path, max_captions_per_image, min_word_count)"
   ]
  },
  {
   "cell_type": "code",
   "execution_count": null,
   "metadata": {},
   "outputs": [],
   "source": [
    "# Creation of json file of testing image paths in data_path\n",
    "generate_test_json_data(test_path, data_path)"
   ]
  },
  {
   "cell_type": "markdown",
   "metadata": {},
   "source": [
    "__GENERATED FILES:__  \n",
    "1. Word dictionary: data/coco/word_dict.json\n",
    "2. Training image paths: data/coco/train_img_paths.json\n",
    "3. Validation image paths: data/coco/val_img_paths.json\n",
    "4. Training captions: data/coco/train_captions.json\n",
    "5. Validation captions: data/coco/val_captions.json\n",
    "6. Testing image paths: data/coco/test_img_paths.json\n",
    "\n",
    "Before beginning training, validation or testing, we need to extract the images from the zipped folders. This is done below."
   ]
  },
  {
   "cell_type": "code",
   "execution_count": null,
   "metadata": {},
   "outputs": [],
   "source": [
    "import zipfile\n",
    "\n",
    "# Extraction of training images\n",
    "with zipfile.ZipFile(data_path + '/train2014.zip', 'r') as zip_ref:\n",
    "    zip_ref.extractall('data/coco/imgs')\n",
    "    \n",
    "# Extraction of validation images    \n",
    "with zipfile.ZipFile(data_path + 'val2014.zip', 'r') as zip_ref:\n",
    "    zip_ref.extractall('data/coco/imgs')\n",
    "\n",
    "# Extraction of testing images    \n",
    "with zipfile.ZipFile(data_path + 'test2014.zip', 'r') as zip_ref:\n",
    "    zip_ref.extractall('data/coco/imgs')"
   ]
  },
  {
   "cell_type": "markdown",
   "metadata": {},
   "source": [
    "#### Processing of MS COCO data and generation of necessary json files is complete. This data can now be used for training, validation and testing of Image Captioning network."
   ]
  }
 ],
 "metadata": {
  "kernelspec": {
   "display_name": "Python 3",
   "language": "python",
   "name": "python3"
  },
  "language_info": {
   "codemirror_mode": {
    "name": "ipython",
    "version": 3
   },
   "file_extension": ".py",
   "mimetype": "text/x-python",
   "name": "python",
   "nbconvert_exporter": "python",
   "pygments_lexer": "ipython3",
   "version": "3.7.3"
  }
 },
 "nbformat": 4,
 "nbformat_minor": 2
}
